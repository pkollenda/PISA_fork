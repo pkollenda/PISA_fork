{
 "cells": [
  {
   "cell_type": "code",
   "execution_count": 1,
   "metadata": {},
   "outputs": [
    {
     "name": "stderr",
     "output_type": "stream",
     "text": [
      "/Users/pkollenda/Library/Caches/pypoetry/virtualenvs/gpbp-Gm2-lxOw-py3.10/lib/python3.10/site-packages/geopandas/_compat.py:154: UserWarning: The Shapely GEOS version (3.10.3-CAPI-1.16.1) is incompatible with the GEOS version PyGEOS was compiled with (3.10.1-CAPI-1.16.0). Conversions between both will be slow.\n",
      "  set_use_pygeos()\n"
     ]
    }
   ],
   "source": [
    "import sys\n",
    "\n",
    "sys.path.insert(0, \"..\")\n",
    "import warnings\n",
    "\n",
    "from gpbp.layers import AdmArea\n",
    "\n",
    "warnings.filterwarnings(action=\"ignore\")"
   ]
  },
  {
   "cell_type": "markdown",
   "metadata": {},
   "source": [
    "## Defining the Administrative Area"
   ]
  },
  {
   "cell_type": "code",
   "execution_count": 2,
   "metadata": {},
   "outputs": [
    {
     "name": "stdout",
     "output_type": "stream",
     "text": [
      "Retrieving data for Timor-Leste of granularity level 0\n",
      "Extracting geometry for Timor-Leste\n",
      "Retrieving {'building': 'hospital'} for Timor-Leste area\n",
      "Data downloaded\n",
      "Converting raster file to dataframe\n"
     ]
    }
   ],
   "source": [
    "adm_area = AdmArea(country=\"Timor-Leste\", level=0)\n",
    "adm_area.get_adm_area(\"Timor-Leste\")\n",
    "adm_area.get_facilities(method=\"osm\", tags={\"building\": \"hospital\"})\n",
    "adm_area.get_population(method=\"world_pop\")\n",
    "adm_area.compute_potential_fac(spacing=0.05)"
   ]
  },
  {
   "cell_type": "markdown",
   "metadata": {},
   "source": [
    "## Retrieving the road network"
   ]
  },
  {
   "cell_type": "code",
   "execution_count": 3,
   "metadata": {},
   "outputs": [],
   "source": [
    "adm_area.get_road_network(\"driving\")"
   ]
  },
  {
   "cell_type": "code",
   "execution_count": 4,
   "metadata": {},
   "outputs": [
    {
     "data": {
      "text/plain": [
       "<networkx.classes.multidigraph.MultiDiGraph at 0x3600962f0>"
      ]
     },
     "execution_count": 4,
     "metadata": {},
     "output_type": "execute_result"
    }
   ],
   "source": [
    "adm_area.road_network"
   ]
  },
  {
   "cell_type": "markdown",
   "metadata": {},
   "source": [
    "## Prepare optimization data"
   ]
  },
  {
   "cell_type": "code",
   "execution_count": 5,
   "metadata": {},
   "outputs": [
    {
     "name": "stderr",
     "output_type": "stream",
     "text": [
      "/Users/pkollenda/Data & Development/CorrelAid/Public-Infrastructure-Service-Access/examples/../gpbp/distance.py:252: FutureWarning: DataFrame.applymap has been deprecated. Use DataFrame.map instead.\n",
      "  serve_df = pd.DataFrame(index=fac_gdf[\"ID\"].values, data=serve_dict).applymap(\n",
      "/Users/pkollenda/Data & Development/CorrelAid/Public-Infrastructure-Service-Access/examples/../gpbp/distance.py:252: FutureWarning: DataFrame.applymap has been deprecated. Use DataFrame.map instead.\n",
      "  serve_df = pd.DataFrame(index=fac_gdf[\"ID\"].values, data=serve_dict).applymap(\n"
     ]
    }
   ],
   "source": [
    "MAPBOX_API_TOKEN = None  # fill out with your own access token for mapbox strategy\n",
    "DISTANCE_TYPE = \"length\"\n",
    "pop_count, current, potential = adm_area.prepare_optimization_data(\n",
    "    distance_type=\"length\",  # \"length\" or \"time\" // what unit to measure the distance in.\n",
    "    distance_values=[2000],  # which isopolygons to draw (here 2 km)\n",
    "    mode_of_transport=\"driving\",  # travel type (driving, walking, cycling)\n",
    "    strategy=\"osm\",  # \"strategy\", OSM (requires adm_area.road_network) or \"mapbox\" (requires MAPBOX_API_TOKEN)\n",
    "    population_resolution=5,\n",
    "    mapbox_access_token=MAPBOX_API_TOKEN,\n",
    ")"
   ]
  },
  {
   "cell_type": "code",
   "execution_count": null,
   "metadata": {},
   "outputs": [],
   "source": [
    "# Returns dataframe with facilities and households \"served\" by the facility.\n",
    "current[\"length\"]"
   ]
  },
  {
   "cell_type": "code",
   "execution_count": null,
   "metadata": {},
   "outputs": [],
   "source": []
  }
 ],
 "metadata": {
  "kernelspec": {
   "display_name": "gpbp-Gm2-lxOw-py3.10",
   "language": "python",
   "name": "python3"
  },
  "language_info": {
   "codemirror_mode": {
    "name": "ipython",
    "version": 3
   },
   "file_extension": ".py",
   "mimetype": "text/x-python",
   "name": "python",
   "nbconvert_exporter": "python",
   "pygments_lexer": "ipython3",
   "version": "3.10.15"
  }
 },
 "nbformat": 4,
 "nbformat_minor": 2
}
