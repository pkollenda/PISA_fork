{
 "cells": [
  {
   "cell_type": "code",
   "execution_count": 1,
   "metadata": {},
   "outputs": [
    {
     "name": "stderr",
     "output_type": "stream",
     "text": [
      "/Users/pkollenda/Library/Caches/pypoetry/virtualenvs/gpbp-Gm2-lxOw-py3.10/lib/python3.10/site-packages/geopandas/_compat.py:154: UserWarning: The Shapely GEOS version (3.10.3-CAPI-1.16.1) is incompatible with the GEOS version PyGEOS was compiled with (3.10.1-CAPI-1.16.0). Conversions between both will be slow.\n",
      "  set_use_pygeos()\n"
     ]
    }
   ],
   "source": [
    "import sys\n",
    "\n",
    "sys.path.insert(0, \"..\")\n",
    "import warnings\n",
    "\n",
    "from gpbp.layers import AdmArea\n",
    "\n",
    "warnings.filterwarnings(action=\"ignore\")"
   ]
  },
  {
   "cell_type": "markdown",
   "metadata": {},
   "source": [
    "## Defining the Administrative Area"
   ]
  },
  {
   "cell_type": "code",
   "execution_count": 2,
   "metadata": {},
   "outputs": [
    {
     "name": "stdout",
     "output_type": "stream",
     "text": [
      "Retrieving data for Timor-Leste of granularity level 0\n",
      "Extracting geometry for Timor-Leste\n",
      "Retrieving {'building': 'hospital'} for Timor-Leste area\n",
      "Data downloaded\n",
      "Converting raster file to dataframe\n"
     ]
    }
   ],
   "source": [
    "adm_area = AdmArea(country=\"Timor-Leste\", level=0)\n",
    "adm_area.get_adm_area(\"Timor-Leste\")\n",
    "adm_area.get_facilities(method=\"osm\", tags={\"building\": \"hospital\"})\n",
    "adm_area.get_population(method=\"world_pop\")\n",
    "adm_area.compute_potential_fac(spacing=0.05)"
   ]
  },
  {
   "cell_type": "markdown",
   "metadata": {},
   "source": [
    "## Retrieving the road network"
   ]
  },
  {
   "cell_type": "code",
   "execution_count": 3,
   "metadata": {},
   "outputs": [],
   "source": [
    "adm_area.get_road_network(\"driving\")"
   ]
  },
  {
   "cell_type": "markdown",
   "metadata": {},
   "source": [
    "#### How is the road network used?\n",
    "In distance.py the calculate_isopolygons_graph method uses the road network and the Lat, Lon coordinates of the facilities. \n"
   ]
  },
  {
   "cell_type": "code",
   "execution_count": 14,
   "metadata": {},
   "outputs": [],
   "source": [
    "X = adm_area.fac_gdf.drop(columns=[\"geometry\"]).longitude.to_list()\n",
    "Y = adm_area.fac_gdf.drop(columns=[\"geometry\"]).latitude.to_list()\n",
    "G = adm_area.road_network"
   ]
  },
  {
   "cell_type": "code",
   "execution_count": 16,
   "metadata": {},
   "outputs": [
    {
     "data": {
      "text/plain": [
       "[5790100400,\n",
       " 7709476609,\n",
       " 10569143716,\n",
       " 9222819647,\n",
       " 9222819671,\n",
       " 1421854313,\n",
       " 1421854313,\n",
       " 1421854313,\n",
       " 2788685044,\n",
       " 1783791890,\n",
       " 910528138,\n",
       " 11092709098,\n",
       " 5225733008,\n",
       " 3475912707,\n",
       " 494069204,\n",
       " 5593426832,\n",
       " 1783195431,\n",
       " 1783195431,\n",
       " 1793520802,\n",
       " 1793520802,\n",
       " 1793520802,\n",
       " 1793520825,\n",
       " 1793520825]"
      ]
     },
     "execution_count": 16,
     "metadata": {},
     "output_type": "execute_result"
    }
   ],
   "source": [
    "import osmnx as ox\n",
    "\n",
    "rode_nodes = ox.distance.nearest_nodes(G, X, Y)\n",
    "rode_nodes"
   ]
  },
  {
   "cell_type": "code",
   "execution_count": 20,
   "metadata": {},
   "outputs": [
    {
     "name": "stdout",
     "output_type": "stream",
     "text": [
      "MultiDiGraph with 14 nodes and 26 edges\n",
      "MultiDiGraph with 54 nodes and 138 edges\n",
      "MultiDiGraph with 1 nodes and 0 edges\n",
      "MultiDiGraph with 72 nodes and 154 edges\n",
      "MultiDiGraph with 71 nodes and 152 edges\n",
      "MultiDiGraph with 36 nodes and 74 edges\n",
      "MultiDiGraph with 36 nodes and 74 edges\n",
      "MultiDiGraph with 36 nodes and 74 edges\n",
      "MultiDiGraph with 182 nodes and 479 edges\n",
      "MultiDiGraph with 8 nodes and 16 edges\n",
      "MultiDiGraph with 11 nodes and 24 edges\n",
      "MultiDiGraph with 48 nodes and 136 edges\n",
      "MultiDiGraph with 3 nodes and 4 edges\n",
      "MultiDiGraph with 12 nodes and 30 edges\n",
      "MultiDiGraph with 1 nodes and 0 edges\n",
      "MultiDiGraph with 5 nodes and 8 edges\n",
      "MultiDiGraph with 4 nodes and 6 edges\n",
      "MultiDiGraph with 4 nodes and 6 edges\n",
      "MultiDiGraph with 79 nodes and 192 edges\n",
      "MultiDiGraph with 79 nodes and 192 edges\n",
      "MultiDiGraph with 79 nodes and 192 edges\n",
      "MultiDiGraph with 78 nodes and 190 edges\n",
      "MultiDiGraph with 78 nodes and 190 edges\n"
     ]
    }
   ],
   "source": [
    "import networkx as nx\n",
    "\n",
    "for road_node in rode_nodes:\n",
    "    print(nx.ego_graph(G, road_node, radius=1000, distance=\"length\"))"
   ]
  },
  {
   "cell_type": "markdown",
   "metadata": {},
   "source": [
    "## Prepare optimization data"
   ]
  },
  {
   "cell_type": "code",
   "execution_count": 5,
   "metadata": {},
   "outputs": [
    {
     "name": "stderr",
     "output_type": "stream",
     "text": [
      "/Users/pkollenda/Data & Development/CorrelAid/Public-Infrastructure-Service-Access/examples/../gpbp/distance.py:252: FutureWarning: DataFrame.applymap has been deprecated. Use DataFrame.map instead.\n",
      "  serve_df = pd.DataFrame(index=fac_gdf[\"ID\"].values, data=serve_dict).applymap(\n",
      "/Users/pkollenda/Data & Development/CorrelAid/Public-Infrastructure-Service-Access/examples/../gpbp/distance.py:252: FutureWarning: DataFrame.applymap has been deprecated. Use DataFrame.map instead.\n",
      "  serve_df = pd.DataFrame(index=fac_gdf[\"ID\"].values, data=serve_dict).applymap(\n"
     ]
    }
   ],
   "source": [
    "MAPBOX_API_TOKEN = None  # fill out with your own access token for mapbox strategy\n",
    "DISTANCE_TYPE = \"length\"\n",
    "pop_count, current, potential = adm_area.prepare_optimization_data(\n",
    "    distance_type=\"length\",  # \"length\" or \"time\" // what unit to measure the distance in.\n",
    "    distance_values=[2000],  # which isopolygons to draw (here 2 km)\n",
    "    mode_of_transport=\"driving\",  # travel type (driving, walking, cycling)\n",
    "    strategy=\"osm\",  # \"strategy\", OSM (requires adm_area.road_network) or \"mapbox\" (requires MAPBOX_API_TOKEN)\n",
    "    population_resolution=5,\n",
    "    mapbox_access_token=MAPBOX_API_TOKEN,\n",
    ")"
   ]
  },
  {
   "cell_type": "code",
   "execution_count": null,
   "metadata": {},
   "outputs": [],
   "source": [
    "# Returns dataframe with facilities and households \"served\" by the facility.\n",
    "current[\"length\"]"
   ]
  },
  {
   "cell_type": "code",
   "execution_count": null,
   "metadata": {},
   "outputs": [],
   "source": []
  }
 ],
 "metadata": {
  "kernelspec": {
   "display_name": "gpbp-Gm2-lxOw-py3.10",
   "language": "python",
   "name": "python3"
  },
  "language_info": {
   "codemirror_mode": {
    "name": "ipython",
    "version": 3
   },
   "file_extension": ".py",
   "mimetype": "text/x-python",
   "name": "python",
   "nbconvert_exporter": "python",
   "pygments_lexer": "ipython3",
   "version": "3.10.15"
  }
 },
 "nbformat": 4,
 "nbformat_minor": 2
}
